{
 "cells": [
  {
   "cell_type": "markdown",
   "id": "57778184",
   "metadata": {},
   "source": [
    "# 1. Importing pandas "
   ]
  },
  {
   "cell_type": "code",
   "execution_count": 1,
   "id": "8544c0c7",
   "metadata": {},
   "outputs": [],
   "source": [
    "import pandas as pd\n",
    "import numpy as np"
   ]
  },
  {
   "cell_type": "markdown",
   "id": "9f5630cb",
   "metadata": {},
   "source": [
    "# Importing fifa.csv dataset"
   ]
  },
  {
   "cell_type": "code",
   "execution_count": 2,
   "id": "6e6cc5f1",
   "metadata": {},
   "outputs": [],
   "source": [
    "data = pd.read_csv(\"fifa.csv\")"
   ]
  },
  {
   "cell_type": "markdown",
   "id": "47135b62",
   "metadata": {},
   "source": [
    "# 2. Checking first few samples\n"
   ]
  },
  {
   "cell_type": "code",
   "execution_count": 3,
   "id": "19e0d976",
   "metadata": {},
   "outputs": [
    {
     "name": "stdout",
     "output_type": "stream",
     "text": [
      "          ID       Name  Age                                           Photo  \\\n",
      "3600  207997  Albentosa   29  https://cdn.sofifa.org/players/4/19/207997.png   \n",
      "\n",
      "     Nationality                                 Flag  Overall  Potential  \\\n",
      "3600       Spain  https://cdn.sofifa.org/flags/45.png       72         72   \n",
      "\n",
      "                        Club                                       Club Logo  \\\n",
      "3600  Gimnàstic de Tarragona  https://cdn.sofifa.org/teams/2/light/15019.png   \n",
      "\n",
      "      ... Composure Marking StandingTackle  SlidingTackle  GKDiving  \\\n",
      "3600  ...      53.0    74.0           70.0           61.0      12.0   \n",
      "\n",
      "      GKHandling GKKicking GKPositioning GKReflexes  Release Clause  \n",
      "3600        15.0      11.0          12.0       11.0             NaN  \n",
      "\n",
      "[1 rows x 60 columns]\n"
     ]
    }
   ],
   "source": [
    "# 1st row\n",
    "row1 = data.sample(n = 1)\n",
    "print(row1)"
   ]
  },
  {
   "cell_type": "code",
   "execution_count": 4,
   "id": "5b56204b",
   "metadata": {},
   "outputs": [
    {
     "name": "stdout",
     "output_type": "stream",
     "text": [
      "       ID               Name  Age  \\\n",
      "0  158023           L. Messi   31   \n",
      "1   20801  Cristiano Ronaldo   33   \n",
      "2  190871          Neymar Jr   26   \n",
      "3  193080             De Gea   27   \n",
      "4  192985       K. De Bruyne   27   \n",
      "5  183277          E. Hazard   27   \n",
      "6  177003          L. Modrić   32   \n",
      "7  176580          L. Suárez   31   \n",
      "8  155862       Sergio Ramos   32   \n",
      "9  200389           J. Oblak   25   \n",
      "\n",
      "                                            Photo Nationality  \\\n",
      "0  https://cdn.sofifa.org/players/4/19/158023.png   Argentina   \n",
      "1   https://cdn.sofifa.org/players/4/19/20801.png    Portugal   \n",
      "2  https://cdn.sofifa.org/players/4/19/190871.png      Brazil   \n",
      "3  https://cdn.sofifa.org/players/4/19/193080.png       Spain   \n",
      "4  https://cdn.sofifa.org/players/4/19/192985.png     Belgium   \n",
      "5  https://cdn.sofifa.org/players/4/19/183277.png     Belgium   \n",
      "6  https://cdn.sofifa.org/players/4/19/177003.png     Croatia   \n",
      "7  https://cdn.sofifa.org/players/4/19/176580.png     Uruguay   \n",
      "8  https://cdn.sofifa.org/players/4/19/155862.png       Spain   \n",
      "9  https://cdn.sofifa.org/players/4/19/200389.png    Slovenia   \n",
      "\n",
      "                                  Flag  Overall  Potential  \\\n",
      "0  https://cdn.sofifa.org/flags/52.png       94         94   \n",
      "1  https://cdn.sofifa.org/flags/38.png       94         94   \n",
      "2  https://cdn.sofifa.org/flags/54.png       92         93   \n",
      "3  https://cdn.sofifa.org/flags/45.png       91         93   \n",
      "4   https://cdn.sofifa.org/flags/7.png       91         92   \n",
      "5   https://cdn.sofifa.org/flags/7.png       91         91   \n",
      "6  https://cdn.sofifa.org/flags/10.png       91         91   \n",
      "7  https://cdn.sofifa.org/flags/60.png       91         91   \n",
      "8  https://cdn.sofifa.org/flags/45.png       91         91   \n",
      "9  https://cdn.sofifa.org/flags/44.png       90         93   \n",
      "\n",
      "                  Club                                     Club Logo  ...  \\\n",
      "0         FC Barcelona  https://cdn.sofifa.org/teams/2/light/241.png  ...   \n",
      "1             Juventus   https://cdn.sofifa.org/teams/2/light/45.png  ...   \n",
      "2  Paris Saint-Germain   https://cdn.sofifa.org/teams/2/light/73.png  ...   \n",
      "3    Manchester United   https://cdn.sofifa.org/teams/2/light/11.png  ...   \n",
      "4      Manchester City   https://cdn.sofifa.org/teams/2/light/10.png  ...   \n",
      "5              Chelsea    https://cdn.sofifa.org/teams/2/light/5.png  ...   \n",
      "6          Real Madrid  https://cdn.sofifa.org/teams/2/light/243.png  ...   \n",
      "7         FC Barcelona  https://cdn.sofifa.org/teams/2/light/241.png  ...   \n",
      "8          Real Madrid  https://cdn.sofifa.org/teams/2/light/243.png  ...   \n",
      "9      Atlético Madrid  https://cdn.sofifa.org/teams/2/light/240.png  ...   \n",
      "\n",
      "  Composure Marking StandingTackle  SlidingTackle  GKDiving  GKHandling  \\\n",
      "0      96.0    33.0           28.0           26.0       6.0        11.0   \n",
      "1      95.0    28.0           31.0           23.0       7.0        11.0   \n",
      "2      94.0    27.0           24.0           33.0       9.0         9.0   \n",
      "3      68.0    15.0           21.0           13.0      90.0        85.0   \n",
      "4      88.0    68.0           58.0           51.0      15.0        13.0   \n",
      "5      91.0    34.0           27.0           22.0      11.0        12.0   \n",
      "6      84.0    60.0           76.0           73.0      13.0         9.0   \n",
      "7      85.0    62.0           45.0           38.0      27.0        25.0   \n",
      "8      82.0    87.0           92.0           91.0      11.0         8.0   \n",
      "9      70.0    27.0           12.0           18.0      86.0        92.0   \n",
      "\n",
      "  GKKicking GKPositioning GKReflexes  Release Clause  \n",
      "0      15.0          14.0        8.0         €226.5M  \n",
      "1      15.0          14.0       11.0         €127.1M  \n",
      "2      15.0          15.0       11.0         €228.1M  \n",
      "3      87.0          88.0       94.0         €138.6M  \n",
      "4       5.0          10.0       13.0         €196.4M  \n",
      "5       6.0           8.0        8.0         €172.1M  \n",
      "6       7.0          14.0        9.0         €137.4M  \n",
      "7      31.0          33.0       37.0           €164M  \n",
      "8       9.0           7.0       11.0         €104.6M  \n",
      "9      78.0          88.0       89.0         €144.5M  \n",
      "\n",
      "[10 rows x 60 columns]\n"
     ]
    }
   ],
   "source": [
    "# First 10 rows\n",
    "rows10 = data.head(10)\n",
    "print(rows10)"
   ]
  },
  {
   "cell_type": "markdown",
   "id": "569dd729",
   "metadata": {},
   "source": [
    "# 3. Listing column headers for dataset"
   ]
  },
  {
   "cell_type": "code",
   "execution_count": 5,
   "id": "adc3a0a7",
   "metadata": {},
   "outputs": [
    {
     "name": "stdout",
     "output_type": "stream",
     "text": [
      "Index(['ID', 'Name', 'Age', 'Photo', 'Nationality', 'Flag', 'Overall',\n",
      "       'Potential', 'Club', 'Club Logo', 'Value', 'Wage', 'Preferred Foot',\n",
      "       'International Reputation', 'Weak Foot', 'Skill Moves', 'Work Rate',\n",
      "       'Body Type', 'Position', 'Jersey Number', 'Joined', 'Loaned From',\n",
      "       'Contract Valid Until', 'Height', 'Weight', 'Crossing', 'Finishing',\n",
      "       'HeadingAccuracy', 'ShortPassing', 'Volleys', 'Dribbling', 'Curve',\n",
      "       'FKAccuracy', 'LongPassing', 'BallControl', 'Acceleration',\n",
      "       'SprintSpeed', 'Agility', 'Reactions', 'Balance', 'ShotPower',\n",
      "       'Jumping', 'Stamina', 'Strength', 'LongShots', 'Aggression',\n",
      "       'Interceptions', 'Positioning', 'Vision', 'Penalties', 'Composure',\n",
      "       'Marking', 'StandingTackle', 'SlidingTackle', 'GKDiving', 'GKHandling',\n",
      "       'GKKicking', 'GKPositioning', 'GKReflexes', 'Release Clause'],\n",
      "      dtype='object')\n"
     ]
    }
   ],
   "source": [
    "print(data.keys())"
   ]
  },
  {
   "cell_type": "markdown",
   "id": "a0477f88",
   "metadata": {},
   "source": [
    "# Dropping columns not needed for data analysis"
   ]
  },
  {
   "cell_type": "code",
   "execution_count": 6,
   "id": "41c3fbcd",
   "metadata": {},
   "outputs": [
    {
     "name": "stdout",
     "output_type": "stream",
     "text": [
      "Index(['ID', 'Name', 'Age', 'Nationality', 'Overall', 'Potential', 'Club',\n",
      "       'Value', 'Wage', 'Preferred Foot', 'International Reputation',\n",
      "       'Weak Foot', 'Skill Moves', 'Work Rate', 'Body Type', 'Position',\n",
      "       'Jersey Number', 'Joined', 'Loaned From', 'Contract Valid Until',\n",
      "       'Height', 'Weight', 'Crossing', 'Finishing', 'HeadingAccuracy',\n",
      "       'ShortPassing', 'Volleys', 'Dribbling', 'Curve', 'FKAccuracy',\n",
      "       'LongPassing', 'BallControl', 'Acceleration', 'SprintSpeed', 'Agility',\n",
      "       'Reactions', 'Balance', 'ShotPower', 'Jumping', 'Stamina', 'Strength',\n",
      "       'LongShots', 'Aggression', 'Interceptions', 'Positioning', 'Vision',\n",
      "       'Penalties', 'Composure', 'Marking', 'StandingTackle', 'SlidingTackle',\n",
      "       'GKDiving', 'GKHandling', 'GKKicking', 'GKPositioning', 'GKReflexes',\n",
      "       'Release Clause'],\n",
      "      dtype='object')\n"
     ]
    }
   ],
   "source": [
    "data = data[['ID', 'Name', 'Age', 'Nationality', 'Overall',\n",
    "       'Potential', 'Club', 'Value', 'Wage', 'Preferred Foot',\n",
    "       'International Reputation', 'Weak Foot', 'Skill Moves', 'Work Rate',\n",
    "       'Body Type', 'Position', 'Jersey Number', 'Joined', 'Loaned From',\n",
    "       'Contract Valid Until', 'Height', 'Weight', 'Crossing', 'Finishing',\n",
    "       'HeadingAccuracy', 'ShortPassing', 'Volleys', 'Dribbling', 'Curve',\n",
    "       'FKAccuracy', 'LongPassing', 'BallControl', 'Acceleration',\n",
    "       'SprintSpeed', 'Agility', 'Reactions', 'Balance', 'ShotPower',\n",
    "       'Jumping', 'Stamina', 'Strength', 'LongShots', 'Aggression',\n",
    "       'Interceptions', 'Positioning', 'Vision', 'Penalties', 'Composure',\n",
    "       'Marking', 'StandingTackle', 'SlidingTackle', 'GKDiving', 'GKHandling',\n",
    "       'GKKicking', 'GKPositioning', 'GKReflexes', 'Release Clause']]\n",
    "print(data.keys())"
   ]
  },
  {
   "cell_type": "markdown",
   "id": "efd9f283",
   "metadata": {},
   "source": [
    "# 4. Preprocessing 'Value' column\n"
   ]
  },
  {
   "cell_type": "code",
   "execution_count": 7,
   "id": "7681ece2",
   "metadata": {},
   "outputs": [
    {
     "name": "stdout",
     "output_type": "stream",
     "text": [
      "0    110500000.0\n",
      "1     77000000.0\n",
      "2    118500000.0\n",
      "3     72000000.0\n",
      "4    102000000.0\n",
      "Name: Value, dtype: float64\n"
     ]
    }
   ],
   "source": [
    "multi=[]\n",
    "data['Value'] = data['Value'].str.slice(1)\n",
    "\n",
    "for index in data.index:\n",
    "    try:\n",
    "        if data.loc[index,'Value'][-1]==\"M\":\n",
    "            multi.append(float(1000000))        \n",
    "        elif data.loc[index,'Value'][-1]==\"K\":\n",
    "            multi.append(float(1000))\n",
    "        else:\n",
    "            multi.append(float(1))\n",
    "    except:\n",
    "        multi.append(float(0))\n",
    "\n",
    "data['Mult']=multi\n",
    "data['Value'] = data['Value'].str.slice(0,-1)\n",
    "data['Value']=pd.to_numeric(data['Value'])\n",
    "data['Value']=pd.to_numeric(data['Value']*data['Mult'])\n",
    "data = data.drop('Mult', axis=1)\n",
    "\n",
    "print(data['Value'].head(5))"
   ]
  },
  {
   "cell_type": "markdown",
   "id": "97b9f044",
   "metadata": {},
   "source": [
    "# Similarly Preprocessing 'Wage' and 'Release Clause' columns"
   ]
  },
  {
   "cell_type": "code",
   "execution_count": 8,
   "id": "3a6f828e",
   "metadata": {},
   "outputs": [
    {
     "name": "stdout",
     "output_type": "stream",
     "text": [
      "       Wage  Release Clause\n",
      "0  565000.0     226500000.0\n",
      "1  405000.0     127100000.0\n",
      "2  290000.0     228100000.0\n",
      "3  260000.0     138600000.0\n",
      "4  355000.0     196400000.0\n"
     ]
    }
   ],
   "source": [
    "multiW=[]\n",
    "multiR=[]\n",
    "data['Wage'] = data['Wage'].str.slice(1)\n",
    "data['Release Clause'] = data['Release Clause'].str.slice(1)\n",
    "\n",
    "for index in data.index:\n",
    "    try:\n",
    "        if data.loc[index,'Wage'][-1]==\"M\":\n",
    "            multiW.append(float(1000000))        \n",
    "        elif data.loc[index,'Wage'][-1]==\"K\":\n",
    "            multiW.append(float(1000))\n",
    "        else:\n",
    "            multiW.append(float(1))\n",
    "    except:\n",
    "        multiW.append(float(0))\n",
    "\n",
    "for index in data.index:\n",
    "    try:\n",
    "        if data.loc[index,'Release Clause'][-1]==\"M\":\n",
    "            multiR.append(float(1000000))        \n",
    "        elif data.loc[index,'Release Clause'][-1]==\"K\":\n",
    "            multiR.append(float(1000))\n",
    "        else:\n",
    "            multiR.append(float(1))\n",
    "    except:\n",
    "        multiR.append(float(0))\n",
    "    \n",
    "\n",
    "data['MultW']=multiW\n",
    "data['Wage'] = data['Wage'].str.slice(0,-1)\n",
    "data['Wage']=pd.to_numeric(data['Wage'])\n",
    "data['Wage']=pd.to_numeric(data['Wage']*data['MultW'])\n",
    "\n",
    "data['MultR']=multiR\n",
    "data['Release Clause'] = data['Release Clause'].str.slice(0,-1)\n",
    "data['Release Clause']=pd.to_numeric(data['Release Clause'])\n",
    "data['Release Clause']=pd.to_numeric(data['Release Clause']*data['MultR'])\n",
    "\n",
    "data = data.drop('MultR', axis=1)\n",
    "data = data.drop('MultW', axis=1)\n",
    "\n",
    "print(data[['Wage','Release Clause']].head(5))"
   ]
  },
  {
   "cell_type": "markdown",
   "id": "d681c5b2",
   "metadata": {},
   "source": [
    "# 5. Preprocessing 'Joined' column "
   ]
  },
  {
   "cell_type": "code",
   "execution_count": 28,
   "id": "cbb7e496",
   "metadata": {
    "scrolled": true
   },
   "outputs": [
    {
     "name": "stdout",
     "output_type": "stream",
     "text": [
      "0    2004\n",
      "1    2018\n",
      "2    2017\n",
      "3    2011\n",
      "4    2015\n",
      "Name: Joined, dtype: int64\n"
     ]
    }
   ],
   "source": [
    "data['Joined'].bfill(inplace=True)\n",
    "data['Joined']=data[\"Joined\"].astype(str).str[-4:].astype('int64')\n",
    "\n",
    "print(data['Joined'].head(5))"
   ]
  },
  {
   "cell_type": "markdown",
   "id": "bab216cf",
   "metadata": {},
   "source": [
    "# 6. Converting 'Contract Valid Until' to Pandas datetime format"
   ]
  },
  {
   "cell_type": "code",
   "execution_count": 29,
   "id": "d0bf8ebc",
   "metadata": {},
   "outputs": [
    {
     "name": "stdout",
     "output_type": "stream",
     "text": [
      "0   2021-01-01\n",
      "1   2022-01-01\n",
      "2   2022-01-01\n",
      "3   2020-01-01\n",
      "4   2023-01-01\n",
      "Name: Contract Valid Until, dtype: datetime64[ns]\n"
     ]
    }
   ],
   "source": [
    "data['Contract Valid Until']=pd.to_datetime(data['Contract Valid Until'])\n",
    "\n",
    "print(data['Contract Valid Until'].head(5))"
   ]
  },
  {
   "cell_type": "markdown",
   "id": "e073fce7",
   "metadata": {},
   "source": [
    "# 7. Preprocessing 'Height' column"
   ]
  },
  {
   "cell_type": "code",
   "execution_count": 30,
   "id": "b09d6cbf",
   "metadata": {},
   "outputs": [
    {
     "name": "stdout",
     "output_type": "stream",
     "text": [
      "0    67.0\n",
      "1    74.0\n",
      "2    69.0\n",
      "3    76.0\n",
      "4    71.0\n",
      "Name: Height, dtype: float64\n"
     ]
    }
   ],
   "source": [
    "data['Height'] = data['Height'].str.split(\"'\")\n",
    "data['Height'] = (pd.to_numeric(data['Height'].str[0])*12)+(pd.to_numeric(data['Height'].str[1]))\n",
    "\n",
    "print(data['Height'].head(5))"
   ]
  },
  {
   "cell_type": "markdown",
   "id": "f9356804",
   "metadata": {},
   "source": [
    "# 8. Preprocessing 'Weight' column"
   ]
  },
  {
   "cell_type": "code",
   "execution_count": 31,
   "id": "4e4c18f6",
   "metadata": {},
   "outputs": [
    {
     "name": "stdout",
     "output_type": "stream",
     "text": [
      "0    159.0\n",
      "1    183.0\n",
      "2    150.0\n",
      "3    168.0\n",
      "4    154.0\n",
      "Name: Weight, dtype: float64\n"
     ]
    }
   ],
   "source": [
    "data['Weight'] = pd.to_numeric(data['Weight'].str.split(\"lbs\").str[0])\n",
    "\n",
    "print(data['Weight'].head(5))"
   ]
  },
  {
   "cell_type": "markdown",
   "id": "7ad213a0",
   "metadata": {},
   "source": [
    "# 9. Checking for % of missing values"
   ]
  },
  {
   "cell_type": "code",
   "execution_count": 32,
   "id": "b8e45030",
   "metadata": {},
   "outputs": [
    {
     "name": "stdout",
     "output_type": "stream",
     "text": [
      "% of Rows with missing entries in atleast one column: 1.6477179106936892 %\n"
     ]
    }
   ],
   "source": [
    "#  By Rows\n",
    "    # 'Joined' and 'Loaned From' columns are mutual so we will treat them as merged and subtract 1 from missing data count\n",
    "    # to find if a row has missing data\n",
    "    \n",
    "data['Missing Data']=data.isnull().sum(axis=1)-1\n",
    "count_missing_rows=len(data[data['Missing Data']>0])\n",
    "per=(count_missing_rows*100)/len(data['Missing Data'])\n",
    "print(\"% of Rows with missing entries in atleast one column: \"+str(per)+\" %\")"
   ]
  },
  {
   "cell_type": "code",
   "execution_count": 33,
   "id": "5506cd35",
   "metadata": {},
   "outputs": [
    {
     "name": "stdout",
     "output_type": "stream",
     "text": [
      "<class 'pandas.core.frame.DataFrame'>\n",
      "RangeIndex: 18207 entries, 0 to 18206\n",
      "Data columns (total 58 columns):\n",
      " #   Column                    Non-Null Count  Dtype         \n",
      "---  ------                    --------------  -----         \n",
      " 0   ID                        18207 non-null  int64         \n",
      " 1   Name                      18207 non-null  object        \n",
      " 2   Age                       18207 non-null  int64         \n",
      " 3   Nationality               18207 non-null  object        \n",
      " 4   Overall                   18207 non-null  int64         \n",
      " 5   Potential                 18207 non-null  int64         \n",
      " 6   Club                      17966 non-null  object        \n",
      " 7   Value                     17955 non-null  float64       \n",
      " 8   Wage                      17966 non-null  float64       \n",
      " 9   Preferred Foot            18159 non-null  object        \n",
      " 10  International Reputation  18159 non-null  float64       \n",
      " 11  Weak Foot                 18159 non-null  float64       \n",
      " 12  Skill Moves               18159 non-null  float64       \n",
      " 13  Work Rate                 18159 non-null  object        \n",
      " 14  Body Type                 18159 non-null  object        \n",
      " 15  Position                  18147 non-null  object        \n",
      " 16  Jersey Number             18147 non-null  float64       \n",
      " 17  Joined                    18207 non-null  int64         \n",
      " 18  Loaned From               1264 non-null   object        \n",
      " 19  Contract Valid Until      17918 non-null  datetime64[ns]\n",
      " 20  Height                    18159 non-null  float64       \n",
      " 21  Weight                    18159 non-null  float64       \n",
      " 22  Crossing                  18159 non-null  float64       \n",
      " 23  Finishing                 18159 non-null  float64       \n",
      " 24  HeadingAccuracy           18159 non-null  float64       \n",
      " 25  ShortPassing              18159 non-null  float64       \n",
      " 26  Volleys                   18159 non-null  float64       \n",
      " 27  Dribbling                 18159 non-null  float64       \n",
      " 28  Curve                     18159 non-null  float64       \n",
      " 29  FKAccuracy                18159 non-null  float64       \n",
      " 30  LongPassing               18159 non-null  float64       \n",
      " 31  BallControl               18159 non-null  float64       \n",
      " 32  Acceleration              18159 non-null  float64       \n",
      " 33  SprintSpeed               18159 non-null  float64       \n",
      " 34  Agility                   18159 non-null  float64       \n",
      " 35  Reactions                 18159 non-null  float64       \n",
      " 36  Balance                   18159 non-null  float64       \n",
      " 37  ShotPower                 18159 non-null  float64       \n",
      " 38  Jumping                   18159 non-null  float64       \n",
      " 39  Stamina                   18159 non-null  float64       \n",
      " 40  Strength                  18159 non-null  float64       \n",
      " 41  LongShots                 18159 non-null  float64       \n",
      " 42  Aggression                18159 non-null  float64       \n",
      " 43  Interceptions             18159 non-null  float64       \n",
      " 44  Positioning               18159 non-null  float64       \n",
      " 45  Vision                    18159 non-null  float64       \n",
      " 46  Penalties                 18159 non-null  float64       \n",
      " 47  Composure                 18159 non-null  float64       \n",
      " 48  Marking                   18159 non-null  float64       \n",
      " 49  StandingTackle            18159 non-null  float64       \n",
      " 50  SlidingTackle             18159 non-null  float64       \n",
      " 51  GKDiving                  18159 non-null  float64       \n",
      " 52  GKHandling                18159 non-null  float64       \n",
      " 53  GKKicking                 18159 non-null  float64       \n",
      " 54  GKPositioning             18159 non-null  float64       \n",
      " 55  GKReflexes                18159 non-null  float64       \n",
      " 56  Release Clause            16643 non-null  float64       \n",
      " 57  Missing Data              18207 non-null  int64         \n",
      "dtypes: datetime64[ns](1), float64(43), int64(6), object(8)\n",
      "memory usage: 8.1+ MB\n",
      "None\n"
     ]
    }
   ],
   "source": [
    "# By Columns\n",
    "\n",
    "missing_col=data.info()\n",
    "print(missing_col)"
   ]
  },
  {
   "cell_type": "markdown",
   "id": "59da9112",
   "metadata": {},
   "source": [
    "# 9.2 Imputing missing data"
   ]
  },
  {
   "cell_type": "code",
   "execution_count": 37,
   "id": "da9d27b2",
   "metadata": {},
   "outputs": [
    {
     "name": "stdout",
     "output_type": "stream",
     "text": [
      "<class 'pandas.core.frame.DataFrame'>\n",
      "RangeIndex: 18207 entries, 0 to 18206\n",
      "Data columns (total 58 columns):\n",
      " #   Column                    Non-Null Count  Dtype         \n",
      "---  ------                    --------------  -----         \n",
      " 0   ID                        18207 non-null  int64         \n",
      " 1   Name                      18207 non-null  object        \n",
      " 2   Age                       18207 non-null  int64         \n",
      " 3   Nationality               18207 non-null  object        \n",
      " 4   Overall                   18207 non-null  int64         \n",
      " 5   Potential                 18207 non-null  int64         \n",
      " 6   Club                      18207 non-null  object        \n",
      " 7   Value                     18207 non-null  float64       \n",
      " 8   Wage                      18207 non-null  float64       \n",
      " 9   Preferred Foot            18207 non-null  object        \n",
      " 10  International Reputation  18207 non-null  float64       \n",
      " 11  Weak Foot                 18207 non-null  float64       \n",
      " 12  Skill Moves               18207 non-null  float64       \n",
      " 13  Work Rate                 18207 non-null  object        \n",
      " 14  Body Type                 18207 non-null  object        \n",
      " 15  Position                  18207 non-null  object        \n",
      " 16  Jersey Number             18207 non-null  float64       \n",
      " 17  Joined                    18207 non-null  int64         \n",
      " 18  Loaned From               18057 non-null  object        \n",
      " 19  Contract Valid Until      18207 non-null  datetime64[ns]\n",
      " 20  Height                    18207 non-null  float64       \n",
      " 21  Weight                    18207 non-null  float64       \n",
      " 22  Crossing                  18207 non-null  float64       \n",
      " 23  Finishing                 18207 non-null  float64       \n",
      " 24  HeadingAccuracy           18207 non-null  float64       \n",
      " 25  ShortPassing              18207 non-null  float64       \n",
      " 26  Volleys                   18207 non-null  float64       \n",
      " 27  Dribbling                 18207 non-null  float64       \n",
      " 28  Curve                     18207 non-null  float64       \n",
      " 29  FKAccuracy                18207 non-null  float64       \n",
      " 30  LongPassing               18207 non-null  float64       \n",
      " 31  BallControl               18207 non-null  float64       \n",
      " 32  Acceleration              18207 non-null  float64       \n",
      " 33  SprintSpeed               18207 non-null  float64       \n",
      " 34  Agility                   18207 non-null  float64       \n",
      " 35  Reactions                 18207 non-null  float64       \n",
      " 36  Balance                   18207 non-null  float64       \n",
      " 37  ShotPower                 18207 non-null  float64       \n",
      " 38  Jumping                   18207 non-null  float64       \n",
      " 39  Stamina                   18207 non-null  float64       \n",
      " 40  Strength                  18207 non-null  float64       \n",
      " 41  LongShots                 18207 non-null  float64       \n",
      " 42  Aggression                18207 non-null  float64       \n",
      " 43  Interceptions             18207 non-null  float64       \n",
      " 44  Positioning               18207 non-null  float64       \n",
      " 45  Vision                    18207 non-null  float64       \n",
      " 46  Penalties                 18207 non-null  float64       \n",
      " 47  Composure                 18207 non-null  float64       \n",
      " 48  Marking                   18207 non-null  float64       \n",
      " 49  StandingTackle            18207 non-null  float64       \n",
      " 50  SlidingTackle             18207 non-null  float64       \n",
      " 51  GKDiving                  18207 non-null  float64       \n",
      " 52  GKHandling                18207 non-null  float64       \n",
      " 53  GKKicking                 18207 non-null  float64       \n",
      " 54  GKPositioning             18207 non-null  float64       \n",
      " 55  GKReflexes                18207 non-null  float64       \n",
      " 56  Release Clause            18207 non-null  float64       \n",
      " 57  Missing Data              18207 non-null  int64         \n",
      "dtypes: datetime64[ns](1), float64(43), int64(6), object(8)\n",
      "memory usage: 8.1+ MB\n",
      "None\n"
     ]
    }
   ],
   "source": [
    "data['Club']=data['Club'].fillna(data['Club'].mode())\n",
    "data['Value']=data['Value'].fillna(data['Value'].mean())\n",
    "data['Wage']=data['Wage'].fillna(data['Wage'].mean())\n",
    "data['Position']=data['Position'].fillna(data['Position'].mode())\n",
    "data['International Reputation']=data['International Reputation'].fillna(data['International Reputation'].mean())\n",
    "data['Jersey Number']=data['Jersey Number'].fillna(data['Jersey Number'].mean())\n",
    "data['Release Clause']=data['Release Clause'].fillna(data['Release Clause'].mean())\n",
    "data['Club'].bfill(inplace=True)\n",
    "data['Preferred Foot'].bfill(inplace=True)\n",
    "data['International Reputation'].bfill(inplace=True)\n",
    "data['Weak Foot'].bfill(inplace=True)\n",
    "data['Skill Moves'].bfill(inplace=True)\n",
    "data['Work Rate'].bfill(inplace=True)\n",
    "data['Body Type'].bfill(inplace=True)\n",
    "data.bfill(inplace=True)\n",
    "\n",
    "\n",
    "print(data.info())"
   ]
  },
  {
   "cell_type": "markdown",
   "id": "0301dbd1",
   "metadata": {},
   "source": [
    "# 10. Plotting Data"
   ]
  },
  {
   "cell_type": "code",
   "execution_count": 38,
   "id": "a1690b3c",
   "metadata": {},
   "outputs": [
    {
     "data": {
      "image/png": "[encoded data removed]",
      "text/plain": [
       "<Figure size 640x480 with 1 Axes>"
      ]
     },
     "metadata": {},
     "output_type": "display_data"
    }
   ],
   "source": [
    "import matplotlib.pyplot as plt\n",
    "data['Overall'].plot()\n",
    "plt.show()"
   ]
  },
  {
   "cell_type": "code",
   "execution_count": 39,
   "id": "5c46d47f",
   "metadata": {},
   "outputs": [],
   "source": [
    "# Findings \n",
    "# The distribution of data using 'Overall' forms an almost smooth quadratic curve\n",
    "# The curve tends towards 100 rating at lower players count and inflects to 0 rating as the player count increases\n",
    "# The curve is available on 'Overall_Plot.png' file"
   ]
  },
  {
   "cell_type": "markdown",
   "id": "7dce5022",
   "metadata": {},
   "source": [
    "# 11. Retreiving name of top 20 players based on overall"
   ]
  },
  {
   "cell_type": "code",
   "execution_count": 40,
   "id": "746e7767",
   "metadata": {},
   "outputs": [
    {
     "name": "stdout",
     "output_type": "stream",
     "text": [
      "0              L. Messi\n",
      "1     Cristiano Ronaldo\n",
      "2             Neymar Jr\n",
      "3                De Gea\n",
      "4          K. De Bruyne\n",
      "5             E. Hazard\n",
      "6             L. Modrić\n",
      "7             L. Suárez\n",
      "8          Sergio Ramos\n",
      "12             D. Godín\n",
      "13          David Silva\n",
      "9              J. Oblak\n",
      "11             T. Kroos\n",
      "10       R. Lewandowski\n",
      "20      Sergio Busquets\n",
      "24         G. Chiellini\n",
      "23            S. Agüero\n",
      "22             M. Neuer\n",
      "21            E. Cavani\n",
      "16              H. Kane\n",
      "Name: Name, dtype: object\n"
     ]
    }
   ],
   "source": [
    "print(data.sort_values('Overall',ascending = False).head(20)['Name'])"
   ]
  },
  {
   "cell_type": "markdown",
   "id": "961929da",
   "metadata": {},
   "source": [
    "# 12. Creating dataframe for top 20 players"
   ]
  },
  {
   "cell_type": "code",
   "execution_count": 42,
   "id": "765b3f60",
   "metadata": {},
   "outputs": [
    {
     "name": "stdout",
     "output_type": "stream",
     "text": [
      "        ID               Name  Age Nationality  Overall  Potential  \\\n",
      "0   158023           L. Messi   31   Argentina       94         94   \n",
      "1    20801  Cristiano Ronaldo   33    Portugal       94         94   \n",
      "2   190871          Neymar Jr   26      Brazil       92         93   \n",
      "3   193080             De Gea   27       Spain       91         93   \n",
      "4   192985       K. De Bruyne   27     Belgium       91         92   \n",
      "5   183277          E. Hazard   27     Belgium       91         91   \n",
      "6   177003          L. Modrić   32     Croatia       91         91   \n",
      "7   176580          L. Suárez   31     Uruguay       91         91   \n",
      "8   155862       Sergio Ramos   32       Spain       91         91   \n",
      "12  182493           D. Godín   32     Uruguay       90         90   \n",
      "13  168542        David Silva   32       Spain       90         90   \n",
      "9   200389           J. Oblak   25    Slovenia       90         93   \n",
      "11  182521           T. Kroos   28     Germany       90         90   \n",
      "10  188545     R. Lewandowski   29      Poland       90         90   \n",
      "20  189511    Sergio Busquets   29       Spain       89         89   \n",
      "24  138956       G. Chiellini   33       Italy       89         89   \n",
      "23  153079          S. Agüero   30   Argentina       89         89   \n",
      "22  167495           M. Neuer   32     Germany       89         89   \n",
      "21  179813          E. Cavani   31     Uruguay       89         89   \n",
      "16  202126            H. Kane   24     England       89         91   \n",
      "\n",
      "                   Club        Value      Wage Preferred Foot  ...  Marking  \\\n",
      "0          FC Barcelona  110500000.0  565000.0           Left  ...     33.0   \n",
      "1              Juventus   77000000.0  405000.0          Right  ...     28.0   \n",
      "2   Paris Saint-Germain  118500000.0  290000.0          Right  ...     27.0   \n",
      "3     Manchester United   72000000.0  260000.0          Right  ...     15.0   \n",
      "4       Manchester City  102000000.0  355000.0          Right  ...     68.0   \n",
      "5               Chelsea   93000000.0  340000.0          Right  ...     34.0   \n",
      "6           Real Madrid   67000000.0  420000.0          Right  ...     60.0   \n",
      "7          FC Barcelona   80000000.0  455000.0          Right  ...     62.0   \n",
      "8           Real Madrid   51000000.0  380000.0          Right  ...     87.0   \n",
      "12      Atlético Madrid   44000000.0  125000.0          Right  ...     90.0   \n",
      "13      Manchester City   60000000.0  285000.0           Left  ...     59.0   \n",
      "9       Atlético Madrid   68000000.0   94000.0          Right  ...     27.0   \n",
      "11          Real Madrid   76500000.0  355000.0          Right  ...     72.0   \n",
      "10    FC Bayern München   77000000.0  205000.0          Right  ...     34.0   \n",
      "20         FC Barcelona   51500000.0  315000.0          Right  ...     90.0   \n",
      "24             Juventus   27000000.0  215000.0           Left  ...     93.0   \n",
      "23      Manchester City   64500000.0  300000.0          Right  ...     30.0   \n",
      "22    FC Bayern München   38000000.0  130000.0          Right  ...     17.0   \n",
      "21  Paris Saint-Germain   60000000.0  200000.0          Right  ...     52.0   \n",
      "16    Tottenham Hotspur   83500000.0  205000.0          Right  ...     56.0   \n",
      "\n",
      "    StandingTackle  SlidingTackle GKDiving GKHandling GKKicking  \\\n",
      "0             28.0           26.0      6.0       11.0      15.0   \n",
      "1             31.0           23.0      7.0       11.0      15.0   \n",
      "2             24.0           33.0      9.0        9.0      15.0   \n",
      "3             21.0           13.0     90.0       85.0      87.0   \n",
      "4             58.0           51.0     15.0       13.0       5.0   \n",
      "5             27.0           22.0     11.0       12.0       6.0   \n",
      "6             76.0           73.0     13.0        9.0       7.0   \n",
      "7             45.0           38.0     27.0       25.0      31.0   \n",
      "8             92.0           91.0     11.0        8.0       9.0   \n",
      "12            89.0           89.0      6.0        8.0      15.0   \n",
      "13            53.0           29.0      6.0       15.0       7.0   \n",
      "9             12.0           18.0     86.0       92.0      78.0   \n",
      "11            79.0           69.0     10.0       11.0      13.0   \n",
      "10            42.0           19.0     15.0        6.0      12.0   \n",
      "20            86.0           80.0      5.0        8.0      13.0   \n",
      "24            93.0           90.0      3.0        3.0       2.0   \n",
      "23            20.0           12.0     13.0       15.0       6.0   \n",
      "22            10.0           11.0     90.0       86.0      91.0   \n",
      "21            45.0           39.0     12.0        5.0      13.0   \n",
      "16            36.0           38.0      8.0       10.0      11.0   \n",
      "\n",
      "    GKPositioning  GKReflexes Release Clause Missing Data  \n",
      "0            14.0         8.0    226500000.0            0  \n",
      "1            14.0        11.0    127100000.0            0  \n",
      "2            15.0        11.0    228100000.0            0  \n",
      "3            88.0        94.0    138600000.0            0  \n",
      "4            10.0        13.0    196400000.0            0  \n",
      "5             8.0         8.0    172100000.0            0  \n",
      "6            14.0         9.0    137400000.0            0  \n",
      "7            33.0        37.0    164000000.0            0  \n",
      "8             7.0        11.0    104600000.0            0  \n",
      "12            5.0        15.0     90200000.0            0  \n",
      "13            6.0        12.0    111000000.0            0  \n",
      "9            88.0        89.0    144500000.0            0  \n",
      "11            7.0        10.0    156800000.0            0  \n",
      "10            8.0        10.0    127100000.0            0  \n",
      "20            9.0        13.0    105600000.0            0  \n",
      "24            4.0         3.0     44600000.0            0  \n",
      "23           11.0        14.0    119300000.0            0  \n",
      "22           87.0        87.0     62700000.0            0  \n",
      "21           13.0        10.0    111000000.0            0  \n",
      "16           14.0        11.0    160700000.0            0  \n",
      "\n",
      "[20 rows x 58 columns]\n"
     ]
    }
   ],
   "source": [
    "top_20=data.sort_values('Overall',ascending = False).head(20)\n",
    "print(top_20)"
   ]
  },
  {
   "cell_type": "markdown",
   "id": "c184e8da",
   "metadata": {},
   "source": [
    "# 13. Average Age and Wage of top 20 players"
   ]
  },
  {
   "cell_type": "code",
   "execution_count": 43,
   "id": "3c18ceb6",
   "metadata": {},
   "outputs": [
    {
     "name": "stdout",
     "output_type": "stream",
     "text": [
      "Top 20 Players Stats\n",
      "Average Age: 29.55\n",
      "Average Wage: 294950.0\n"
     ]
    }
   ],
   "source": [
    "top_20_age_wage=top_20[['Age','Wage']]\n",
    "print(\"Top 20 Players Stats\")\n",
    "print(\"Average Age: \"+str(top_20_age_wage['Age'].mean()))\n",
    "print(\"Average Wage: \"+str(top_20_age_wage['Wage'].mean()))"
   ]
  },
  {
   "cell_type": "markdown",
   "id": "0a5c3b1a",
   "metadata": {},
   "source": [
    "# 14. Highest Wage player"
   ]
  },
  {
   "cell_type": "code",
   "execution_count": 44,
   "id": "0001e300",
   "metadata": {},
   "outputs": [
    {
     "name": "stdout",
     "output_type": "stream",
     "text": [
      "Highest Wage Player: \n",
      "       Name      Wage\n",
      "0  L. Messi  565000.0\n"
     ]
    }
   ],
   "source": [
    "print(\"Highest Wage Player: \")\n",
    "print(str(top_20.sort_values('Wage',ascending = False).head(1)[['Name','Wage']]))"
   ]
  },
  {
   "cell_type": "markdown",
   "id": "9a60a907",
   "metadata": {},
   "source": [
    "# 15. Creating 'Club' based dataframe"
   ]
  },
  {
   "cell_type": "code",
   "execution_count": 45,
   "id": "db19b3b4",
   "metadata": {},
   "outputs": [
    {
     "name": "stdout",
     "output_type": "stream",
     "text": [
      "                     Name                 Club      Wage  Overall\n",
      "0                L. Messi         FC Barcelona  565000.0       94\n",
      "1       Cristiano Ronaldo             Juventus  405000.0       94\n",
      "2               Neymar Jr  Paris Saint-Germain  290000.0       92\n",
      "3                  De Gea    Manchester United  260000.0       91\n",
      "4            K. De Bruyne      Manchester City  355000.0       91\n",
      "...                   ...                  ...       ...      ...\n",
      "18202        J. Lundstram      Crewe Alexandra    1000.0       47\n",
      "18203  N. Christoffersson       Trelleborgs FF    1000.0       47\n",
      "18204           B. Worman     Cambridge United    1000.0       47\n",
      "18205      D. Walker-Rice      Tranmere Rovers    1000.0       47\n",
      "18206           G. Nugent      Tranmere Rovers    1000.0       46\n",
      "\n",
      "[18207 rows x 4 columns]\n"
     ]
    }
   ],
   "source": [
    "data_club=data[['Name','Club','Wage','Overall']]\n",
    "print(data_club)"
   ]
  },
  {
   "cell_type": "markdown",
   "id": "3a657e7f",
   "metadata": {},
   "source": [
    "# 15. (i) Average 'Overall' ratings based on 'Club'"
   ]
  },
  {
   "cell_type": "code",
   "execution_count": 47,
   "id": "77903aa0",
   "metadata": {},
   "outputs": [
    {
     "name": "stdout",
     "output_type": "stream",
     "text": [
      "                      Club    Overall\n",
      "0      SSV Jahn Regensburg  65.586207\n",
      "1    1. FC Heidenheim 1846  65.862069\n",
      "2     1. FC Kaiserslautern  63.384615\n",
      "3               1. FC Köln  70.862069\n",
      "4          1. FC Magdeburg  65.615385\n",
      "..                     ...        ...\n",
      "646     Zagłębie Sosnowiec  60.760000\n",
      "647        Çaykur Rizespor  66.900000\n",
      "648              Örebro SK  60.642857\n",
      "649          Östersunds FK  63.545455\n",
      "650          Śląsk Wrocław  62.200000\n",
      "\n",
      "[651 rows x 2 columns]\n"
     ]
    }
   ],
   "source": [
    "data_club_avg=data_club[['Club','Wage','Overall']]\n",
    "data_club_avg=data_club_avg.groupby('Club',as_index=False).mean()\n",
    "print(data_club_avg[['Club','Overall']])"
   ]
  },
  {
   "cell_type": "markdown",
   "id": "e0fa5bac",
   "metadata": {},
   "source": [
    "# 15. (ii) Plotting 'Club' vs 'Overall' for top 10 clubs"
   ]
  },
  {
   "cell_type": "code",
   "execution_count": 48,
   "id": "6b48ed74",
   "metadata": {},
   "outputs": [
    {
     "data": {
      "image/png": "[encoded data removed]",
      "text/plain": [
       "<Figure size 640x480 with 1 Axes>"
      ]
     },
     "metadata": {},
     "output_type": "display_data"
    }
   ],
   "source": [
    "data_club_avg_top10=data_club_avg.sort_values('Overall',ascending=False).head(10)[['Club','Overall']]\n",
    "data_club_avg_top10.plot(x='Club',y='Overall',kind='bar')\n",
    "plt.show()"
   ]
  },
  {
   "cell_type": "code",
   "execution_count": 49,
   "id": "7f103c3c",
   "metadata": {},
   "outputs": [],
   "source": [
    "# 'Club' vs 'Overall' can be seen from 'Club_based_overall_top10.png'"
   ]
  },
  {
   "cell_type": "markdown",
   "id": "e875cf74",
   "metadata": {},
   "source": [
    "# 16. Relationship between 'Age' and 'Potential'"
   ]
  },
  {
   "cell_type": "code",
   "execution_count": 50,
   "id": "dd005a2f",
   "metadata": {},
   "outputs": [
    {
     "data": {
      "image/png": "[encoded data removed]",
      "text/plain": [
       "<Figure size 640x480 with 2 Axes>"
      ]
     },
     "metadata": {},
     "output_type": "display_data"
    }
   ],
   "source": [
    "data.plot.hexbin(x='Age',y='Potential')\n",
    "plt.show()"
   ]
  },
  {
   "cell_type": "code",
   "execution_count": 51,
   "id": "2233990e",
   "metadata": {},
   "outputs": [],
   "source": [
    "# Plot can be seen at 'potential_vs_age.png'\n",
    "# Findings:\n",
    "# In the plot we can observe where greater proportions of players are located. There are more younger players with a potential\n",
    "# around the 75 mark while more ‘middle-aged’ players currently have a lower potential, around 70. Potential contnues to decrese\n",
    "# to around 65 for 'old-aged' players."
   ]
  },
  {
   "cell_type": "markdown",
   "id": "7e0ad6c7",
   "metadata": {},
   "source": [
    "# 17. Factors effecting 'Wage'"
   ]
  },
  {
   "cell_type": "code",
   "execution_count": 52,
   "id": "5adf207c",
   "metadata": {},
   "outputs": [
    {
     "data": {
      "image/png": "[encoded data removed]",
      "text/plain": [
       "<Figure size 640x480 with 1 Axes>"
      ]
     },
     "metadata": {},
     "output_type": "display_data"
    }
   ],
   "source": [
    "data.plot.box(y=['Potential','Overall','Value','Age','International Reputation','Release Clause'],x='Wage')\n",
    "plt.show()"
   ]
  },
  {
   "cell_type": "code",
   "execution_count": 53,
   "id": "4d123185",
   "metadata": {},
   "outputs": [],
   "source": [
    "# Plot can be seen at 'factors_effecting_wage.png'\n",
    "# Findings:\n",
    "# In the plot we can observe that the factors which effect player 'Wage' are 'Value' and 'Realease Clause'"
   ]
  },
  {
   "cell_type": "markdown",
   "id": "b1f6613c",
   "metadata": {},
   "source": [
    "# 18. Player 'Position' plot"
   ]
  },
  {
   "cell_type": "code",
   "execution_count": 54,
   "id": "f2713a65",
   "metadata": {},
   "outputs": [
    {
     "data": {
      "image/png": "[encoded data removed]",
      "text/plain": [
       "<Figure size 640x480 with 1 Axes>"
      ]
     },
     "metadata": {},
     "output_type": "display_data"
    }
   ],
   "source": [
    "data_position=data.groupby('Position',as_index=False).size()\n",
    "data_position=data_position.sort_values('size')\n",
    "data_position.plot(y='size',x='Position',kind='bar')\n",
    "plt.show()"
   ]
  },
  {
   "cell_type": "code",
   "execution_count": 55,
   "id": "eb690857",
   "metadata": {},
   "outputs": [],
   "source": [
    "# Plot can be seen at 'position_stats.png'\n",
    "# Findings:\n",
    "# Least played position: LF\n",
    "# Most played position: ST"
   ]
  },
  {
   "cell_type": "markdown",
   "id": "ab57ca3c",
   "metadata": {},
   "source": [
    "# 19. Filtering players with Club = 'Juventus' and Wage > 200K"
   ]
  },
  {
   "cell_type": "code",
   "execution_count": 56,
   "id": "c06002eb",
   "metadata": {},
   "outputs": [
    {
     "name": "stdout",
     "output_type": "stream",
     "text": [
      "        ID               Name  Age Nationality  Overall  Potential      Club  \\\n",
      "1    20801  Cristiano Ronaldo   33    Portugal       94         94  Juventus   \n",
      "15  211110          P. Dybala   24   Argentina       89         94  Juventus   \n",
      "24  138956       G. Chiellini   33       Italy       89         89  Juventus   \n",
      "\n",
      "         Value      Wage Preferred Foot  ...  Marking  StandingTackle  \\\n",
      "1   77000000.0  405000.0          Right  ...     28.0            31.0   \n",
      "15  89000000.0  205000.0           Left  ...     23.0            20.0   \n",
      "24  27000000.0  215000.0           Left  ...     93.0            93.0   \n",
      "\n",
      "    SlidingTackle GKDiving GKHandling GKKicking  GKPositioning  GKReflexes  \\\n",
      "1            23.0      7.0       11.0      15.0           14.0        11.0   \n",
      "15           20.0      5.0        4.0       4.0            5.0         8.0   \n",
      "24           90.0      3.0        3.0       2.0            4.0         3.0   \n",
      "\n",
      "   Release Clause Missing Data  \n",
      "1     127100000.0            0  \n",
      "15    153500000.0            0  \n",
      "24     44600000.0            0  \n",
      "\n",
      "[3 rows x 58 columns]\n"
     ]
    }
   ],
   "source": [
    "data_filtered=data[(data['Club']=='Juventus') & (data['Wage']>200000)]\n",
    "print(data_filtered)"
   ]
  },
  {
   "cell_type": "code",
   "execution_count": 57,
   "id": "7d02bfdd",
   "metadata": {},
   "outputs": [],
   "source": [
    "# No. of such player = 3"
   ]
  },
  {
   "cell_type": "markdown",
   "id": "a1674899",
   "metadata": {},
   "source": [
    "# 20. Filtering top 5 players for each position"
   ]
  },
  {
   "cell_type": "code",
   "execution_count": 58,
   "id": "49520e13",
   "metadata": {},
   "outputs": [
    {
     "name": "stdout",
     "output_type": "stream",
     "text": [
      "         ID               Name  Age Nationality  Overall  Potential  \\\n",
      "0    183277          E. Hazard   27     Belgium       91         91   \n",
      "1    211110          P. Dybala   24   Argentina       89         94   \n",
      "2        41            Iniesta   34       Spain       86         86   \n",
      "3    198164     Jonathan Viera   28       Spain       82         82   \n",
      "4    190577          S. Blanco   30   Argentina       76         76   \n",
      "..      ...                ...  ...         ...      ...        ...   \n",
      "130   20801  Cristiano Ronaldo   33    Portugal       94         94   \n",
      "131  188545     R. Lewandowski   29      Poland       90         90   \n",
      "132  202126            H. Kane   24     England       89         91   \n",
      "133  153079          S. Agüero   30   Argentina       89         89   \n",
      "134  173731            G. Bale   28       Wales       88         88   \n",
      "\n",
      "                        Club       Value      Wage Preferred Foot  ...  \\\n",
      "0                    Chelsea  93000000.0  340000.0          Right  ...   \n",
      "1                   Juventus  89000000.0  205000.0           Left  ...   \n",
      "2                Vissel Kobe  21500000.0   21000.0          Right  ...   \n",
      "3    Beijing Sinobo Guoan FC  22500000.0   31000.0          Right  ...   \n",
      "4           Portland Timbers   7500000.0    9000.0          Right  ...   \n",
      "..                       ...         ...       ...            ...  ...   \n",
      "130                 Juventus  77000000.0  405000.0          Right  ...   \n",
      "131        FC Bayern München  77000000.0  205000.0          Right  ...   \n",
      "132        Tottenham Hotspur  83500000.0  205000.0          Right  ...   \n",
      "133          Manchester City  64500000.0  300000.0          Right  ...   \n",
      "134              Real Madrid  60000000.0  355000.0           Left  ...   \n",
      "\n",
      "     Marking  StandingTackle  SlidingTackle GKDiving GKHandling GKKicking  \\\n",
      "0       34.0            27.0           22.0     11.0       12.0       6.0   \n",
      "1       23.0            20.0           20.0      5.0        4.0       4.0   \n",
      "2       67.0            57.0           56.0      6.0       13.0       6.0   \n",
      "3       56.0            68.0           55.0     16.0       16.0       9.0   \n",
      "4       30.0            22.0           32.0      9.0        7.0       9.0   \n",
      "..       ...             ...            ...      ...        ...       ...   \n",
      "130     28.0            31.0           23.0      7.0       11.0      15.0   \n",
      "131     34.0            42.0           19.0     15.0        6.0      12.0   \n",
      "132     56.0            36.0           38.0      8.0       10.0      11.0   \n",
      "133     30.0            20.0           12.0     13.0       15.0       6.0   \n",
      "134     54.0            55.0           52.0     15.0       15.0      11.0   \n",
      "\n",
      "     GKPositioning  GKReflexes Release Clause Missing Data  \n",
      "0              8.0         8.0    172100000.0            0  \n",
      "1              5.0         8.0    153500000.0            0  \n",
      "2             13.0         7.0     26900000.0            0  \n",
      "3             14.0         9.0     49500000.0            0  \n",
      "4             13.0        12.0     11300000.0            0  \n",
      "..             ...         ...            ...          ...  \n",
      "130           14.0        11.0    127100000.0            0  \n",
      "131            8.0        10.0    127100000.0            0  \n",
      "132           14.0        11.0    160700000.0            0  \n",
      "133           11.0        14.0    119300000.0            0  \n",
      "134            5.0         6.0    123000000.0            0  \n",
      "\n",
      "[135 rows x 58 columns]\n"
     ]
    },
    {
     "name": "stderr",
     "output_type": "stream",
     "text": [
      "C:\\Users\\Akshat\\AppData\\Local\\Temp\\ipykernel_16816\\3955331869.py:8: FutureWarning: The frame.append method is deprecated and will be removed from pandas in a future version. Use pandas.concat instead.\n",
      "  top_5_by_position=top_5_by_position.append(players_pos,ignore_index=True)\n"
     ]
    }
   ],
   "source": [
    "positions=[]\n",
    "positions=data_position['Position'].tolist()\n",
    "top_5_by_position=data.head(0)\n",
    "\n",
    "for index in positions:\n",
    "    players_pos=data[(data['Position']==index)]\n",
    "    players_pos=players_pos.sort_values('Overall',ascending=False).head(5)\n",
    "    top_5_by_position=top_5_by_position.append(players_pos,ignore_index=True)\n",
    "      \n",
    "print(top_5_by_position)"
   ]
  },
  {
   "cell_type": "markdown",
   "id": "111f2b47",
   "metadata": {},
   "source": [
    "# 21. Average 'Wage' of top 5 players for each position"
   ]
  },
  {
   "cell_type": "code",
   "execution_count": 59,
   "id": "f836fe31",
   "metadata": {},
   "outputs": [
    {
     "name": "stdout",
     "output_type": "stream",
     "text": [
      "              Wage\n",
      "Position          \n",
      "CAM       174000.0\n",
      "CB        139600.0\n",
      "CDM       217000.0\n",
      "CF         47400.0\n",
      "CM        130600.0\n",
      "GK        192800.0\n",
      "LAM        81600.0\n",
      "LB        177200.0\n",
      "LCB       162000.0\n",
      "LCM       184400.0\n",
      "LDM       126600.0\n",
      "LF        121200.0\n",
      "LM        164600.0\n",
      "LS        130200.0\n",
      "LW        261000.0\n",
      "LWB        34200.0\n",
      "RAM        45400.0\n",
      "RB        155400.0\n",
      "RCB       231000.0\n",
      "RCM       240800.0\n",
      "RDM       105000.0\n",
      "RF        148000.0\n",
      "RM        131400.0\n",
      "RS        132200.0\n",
      "RW        202000.0\n",
      "RWB        44200.0\n",
      "ST        294000.0\n"
     ]
    }
   ],
   "source": [
    "positions_avg_wage=top_5_by_position[['Position','Wage']]\n",
    "positions_avg_wage=positions_avg_wage.groupby('Position').mean()\n",
    "print(positions_avg_wage)"
   ]
  },
  {
   "cell_type": "markdown",
   "id": "3336188f",
   "metadata": {},
   "source": [
    "# Exporting output data"
   ]
  },
  {
   "cell_type": "code",
   "execution_count": 60,
   "id": "20c5d9d3",
   "metadata": {},
   "outputs": [],
   "source": [
    "data.to_csv(\"output_info.csv\")"
   ]
  },
  {
   "cell_type": "code",
   "execution_count": null,
   "id": "b0ecac28",
   "metadata": {},
   "outputs": [],
   "source": []
  }
 ],
 "metadata": {
  "kernelspec": {
   "display_name": "Python 3 (ipykernel)",
   "language": "python",
   "name": "python3"
  },
  "language_info": {
   "codemirror_mode": {
    "name": "ipython",
    "version": 3
   },
   "file_extension": ".py",
   "mimetype": "text/x-python",
   "name": "python",
   "nbconvert_exporter": "python",
   "pygments_lexer": "ipython3",
   "version": "3.9.13"
  }
 },
 "nbformat": 4,
 "nbformat_minor": 5
}
